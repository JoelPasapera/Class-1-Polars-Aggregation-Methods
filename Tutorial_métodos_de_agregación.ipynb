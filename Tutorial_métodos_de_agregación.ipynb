{
  "nbformat": 4,
  "nbformat_minor": 0,
  "metadata": {
    "colab": {
      "provenance": []
    },
    "kernelspec": {
      "name": "python3",
      "display_name": "Python 3"
    },
    "language_info": {
      "name": "python"
    }
  },
  "cells": [
    {
      "cell_type": "markdown",
      "source": [
        "Importar librerias"
      ],
      "metadata": {
        "id": "fIxevc4MGo06"
      }
    },
    {
      "cell_type": "code",
      "source": [
        "import polars as pl\n",
        "from datetime import datetime"
      ],
      "metadata": {
        "id": "9vF8aiPOGsUX"
      },
      "execution_count": null,
      "outputs": []
    },
    {
      "cell_type": "markdown",
      "source": [
        "# Frame de ejemplo"
      ],
      "metadata": {
        "id": "_ukS3HlbDpTp"
      }
    },
    {
      "cell_type": "markdown",
      "source": [
        "# **¿Qué es una Expresión en Polars?**"
      ],
      "metadata": {
        "id": "FnURaWln2-y-"
      }
    },
    {
      "cell_type": "markdown",
      "source": [
        "Una expresión en Polars es una operación o cálculo que se puede aplicar a una columna o conjunto de columnas. Las expresiones son como instrucciones, son los pasos a seguir que aùn no se concretaron, es como el plan antes de y es con el metodo `collect()` cuando se ejecuta el plan."
      ],
      "metadata": {
        "id": "zmFs6dQe3GC2"
      }
    },
    {
      "cell_type": "markdown",
      "source": [
        "1. Características de las Expresiones:\n",
        "\n"
      ],
      "metadata": {
        "id": "5tqYKjPr3KXm"
      }
    },
    {
      "cell_type": "markdown",
      "source": [
        "* Encadenables: Puedes encadenar múltiples operaciones.\n",
        "\n",
        "* Optimizables: Polars optimiza automáticamente las expresiones antes de ejecutarlas.\n",
        "\n",
        "* Flexibles: Pueden usarse en casi cualquier contexto (selección, filtrado, agregación, etc.)."
      ],
      "metadata": {
        "id": "ik3Sjq253SVG"
      }
    },
    {
      "cell_type": "code",
      "source": [
        "import polars as pl\n",
        "\n",
        "# Crear un DataFrame\n",
        "df = pl.DataFrame({\n",
        "    \"nombre\": [\"Alice\", \"Bob\", \"Charlie\"],\n",
        "    \"edad\": [25, 30, 35]\n",
        "})\n",
        "\n",
        "# Usar expresiones para crear una nueva columna y filtrar\n",
        "resultado = df.with_columns(\n",
        "    (pl.col(\"edad\") + 5).alias(\"edad_futura\")  # Expresión 1: Suma 5 a \"edad\"\n",
        ").filter(\n",
        "    pl.col(\"edad_futura\") > 30  # Expresión 2: Filtra por \"edad_futura\" > 30\n",
        ")\n",
        "\n",
        "print(resultado)"
      ],
      "metadata": {
        "colab": {
          "base_uri": "https://localhost:8080/"
        },
        "collapsed": true,
        "id": "D6OwDVPr4A_0",
        "outputId": "e3ea4f68-b9e9-468b-9042-9a70fc0daa0e"
      },
      "execution_count": null,
      "outputs": [
        {
          "output_type": "stream",
          "name": "stdout",
          "text": [
            "shape: (2, 3)\n",
            "┌─────────┬──────┬─────────────┐\n",
            "│ nombre  ┆ edad ┆ edad_futura │\n",
            "│ ---     ┆ ---  ┆ ---         │\n",
            "│ str     ┆ i64  ┆ i64         │\n",
            "╞═════════╪══════╪═════════════╡\n",
            "│ Bob     ┆ 30   ┆ 35          │\n",
            "│ Charlie ┆ 35   ┆ 40          │\n",
            "└─────────┴──────┴─────────────┘\n"
          ]
        }
      ]
    },
    {
      "cell_type": "code",
      "source": [
        "lf = pl.LazyFrame({\n",
        "    \"Date\": [\n",
        "        datetime(2020, 1, 1),\n",
        "        datetime(2020, 1, 2),\n",
        "        datetime(2020, 1, 3),\n",
        "        datetime(2020, 1, 4),\n",
        "        datetime(2020, 1, 5),\n",
        "        datetime(2020, 2, 6),\n",
        "        datetime(2020, 2, 7),\n",
        "        datetime(2020, 2, 8),\n",
        "        datetime(2020, 2, 9),\n",
        "        datetime(2020, 2, 10),\n",
        "        datetime(2020, 3, 11),\n",
        "        datetime(2020, 3, 12),\n",
        "        datetime(2020, 3, 13),\n",
        "        datetime(2020, 3, 14),\n",
        "        datetime(2020, 3, 15),\n",
        "        datetime(2020, 5, 16),\n",
        "        datetime(2020, 5, 17),\n",
        "        datetime(2020, 5, 18),\n",
        "        datetime(2020, 5, 19),\n",
        "        datetime(2020, 5, 20)\n",
        "    ],\n",
        "    \"entry_time\": [\n",
        "        datetime(2020, 1, 1),\n",
        "        datetime(2020, 1, 1),\n",
        "        datetime(2020, 1, 1),\n",
        "        datetime(2020, 1, 1),\n",
        "        datetime(2020, 1, 1),\n",
        "        datetime(2020, 2, 6),\n",
        "        datetime(2020, 2, 6),\n",
        "        datetime(2020, 2, 6),\n",
        "        datetime(2020, 2, 6),\n",
        "        datetime(2020, 2, 10),\n",
        "        datetime(2020, 3, 10),\n",
        "        datetime(2020, 3, 10),\n",
        "        datetime(2020, 3, 10),\n",
        "        datetime(2020, 3, 10),\n",
        "        datetime(2020, 3, 10),\n",
        "        datetime(2020, 5, 16),\n",
        "        datetime(2020, 5, 16),\n",
        "        datetime(2020, 5, 16),\n",
        "        datetime(2020, 5, 16),\n",
        "        datetime(2020, 5, 16)\n",
        "    ],\n",
        "    \"High\": [\n",
        "        2110, 2120, 2130, 2140, 2150, 2160, 2170, 2180, 2190, 2200,\n",
        "        2210, 2220, 2230, 2240, 2250, 2260, 2270, 2280, 2290, 2300\n",
        "    ],\n",
        "    \"Low\": [\n",
        "        2105, 2115, 2125, 2135, 2145, 2155, 2165, 2175, 2185, 2195,\n",
        "        2205, 2215, 2225, 2235, 2245, 2255, 2265, 2275, 2285, 2295\n",
        "    ],\n",
        "    \"Highest\": [\n",
        "        2650, 2650, 2650, 2650, 2650, 2650, 2650, 2650, 2650, 2650,\n",
        "        2650, 2650, 2650, 2650, 2650, 2650, 2650, 2650, 2650, 2650\n",
        "    ],\n",
        "    \"Lowest\": [\n",
        "        2150, 2150, 2150, 2150, 2150, 2150, 2150, 2150, 2150, 2150,\n",
        "        2150, 2150, 2150, 2150, 2150, 2150, 2150, 2150, 2150, 2150\n",
        "    ]\n",
        "})"
      ],
      "metadata": {
        "id": "CIpn0SEpIlDl"
      },
      "execution_count": null,
      "outputs": []
    },
    {
      "cell_type": "markdown",
      "source": [
        "Ver el lazyframe"
      ],
      "metadata": {
        "id": "IOe0S4ffKWop"
      }
    },
    {
      "cell_type": "code",
      "source": [
        "print(lf.collect())"
      ],
      "metadata": {
        "colab": {
          "base_uri": "https://localhost:8080/"
        },
        "id": "BZ3I6axLIxJM",
        "outputId": "62a51ca1-71ad-4f46-ab80-5de2f436d9fb"
      },
      "execution_count": null,
      "outputs": [
        {
          "output_type": "stream",
          "name": "stdout",
          "text": [
            "shape: (20, 6)\n",
            "┌─────────────────────┬─────────────────────┬──────┬──────┬─────────┬────────┐\n",
            "│ Date                ┆ entry_time          ┆ High ┆ Low  ┆ Highest ┆ Lowest │\n",
            "│ ---                 ┆ ---                 ┆ ---  ┆ ---  ┆ ---     ┆ ---    │\n",
            "│ datetime[μs]        ┆ datetime[μs]        ┆ i64  ┆ i64  ┆ i64     ┆ i64    │\n",
            "╞═════════════════════╪═════════════════════╪══════╪══════╪═════════╪════════╡\n",
            "│ 2020-01-01 00:00:00 ┆ 2020-01-01 00:00:00 ┆ 2110 ┆ 2105 ┆ 2650    ┆ 2150   │\n",
            "│ 2020-01-02 00:00:00 ┆ 2020-01-01 00:00:00 ┆ 2120 ┆ 2115 ┆ 2650    ┆ 2150   │\n",
            "│ 2020-01-03 00:00:00 ┆ 2020-01-01 00:00:00 ┆ 2130 ┆ 2125 ┆ 2650    ┆ 2150   │\n",
            "│ 2020-01-04 00:00:00 ┆ 2020-01-01 00:00:00 ┆ 2140 ┆ 2135 ┆ 2650    ┆ 2150   │\n",
            "│ 2020-01-05 00:00:00 ┆ 2020-01-01 00:00:00 ┆ 2150 ┆ 2145 ┆ 2650    ┆ 2150   │\n",
            "│ …                   ┆ …                   ┆ …    ┆ …    ┆ …       ┆ …      │\n",
            "│ 2020-05-16 00:00:00 ┆ 2020-05-16 00:00:00 ┆ 2260 ┆ 2255 ┆ 2650    ┆ 2150   │\n",
            "│ 2020-05-17 00:00:00 ┆ 2020-05-16 00:00:00 ┆ 2270 ┆ 2265 ┆ 2650    ┆ 2150   │\n",
            "│ 2020-05-18 00:00:00 ┆ 2020-05-16 00:00:00 ┆ 2280 ┆ 2275 ┆ 2650    ┆ 2150   │\n",
            "│ 2020-05-19 00:00:00 ┆ 2020-05-16 00:00:00 ┆ 2290 ┆ 2285 ┆ 2650    ┆ 2150   │\n",
            "│ 2020-05-20 00:00:00 ┆ 2020-05-16 00:00:00 ┆ 2300 ┆ 2295 ┆ 2650    ┆ 2150   │\n",
            "└─────────────────────┴─────────────────────┴──────┴──────┴─────────┴────────┘\n"
          ]
        }
      ]
    },
    {
      "cell_type": "markdown",
      "source": [
        "Agrupar lazyframe"
      ],
      "metadata": {
        "id": "hiol9FX3KaBq"
      }
    },
    {
      "cell_type": "code",
      "source": [
        "lf_g = lf.group_by('entry_time').agg(\n",
        "    pl.col('High').max().alias('max_value')\n",
        "    ,pl.col('High').min().alias('min_value')\n",
        "    ,pl.col('Highest').median().alias('max_high')\n",
        "    ,pl.col('Lowest').mean().alias('min_low')\n",
        ")\n",
        "print(lf_g.collect())"
      ],
      "metadata": {
        "colab": {
          "base_uri": "https://localhost:8080/"
        },
        "id": "zbiHT6NNKVkj",
        "outputId": "d9082c0e-c412-4d0c-b9c7-23454646521c"
      },
      "execution_count": null,
      "outputs": [
        {
          "output_type": "stream",
          "name": "stdout",
          "text": [
            "shape: (5, 5)\n",
            "┌─────────────────────┬───────────┬───────────┬──────────┬─────────┐\n",
            "│ entry_time          ┆ max_value ┆ min_value ┆ max_high ┆ min_low │\n",
            "│ ---                 ┆ ---       ┆ ---       ┆ ---      ┆ ---     │\n",
            "│ datetime[μs]        ┆ i64       ┆ i64       ┆ f64      ┆ f64     │\n",
            "╞═════════════════════╪═══════════╪═══════════╪══════════╪═════════╡\n",
            "│ 2020-02-10 00:00:00 ┆ 2200      ┆ 2200      ┆ 2650.0   ┆ 2150.0  │\n",
            "│ 2020-02-06 00:00:00 ┆ 2190      ┆ 2160      ┆ 2650.0   ┆ 2150.0  │\n",
            "│ 2020-05-16 00:00:00 ┆ 2300      ┆ 2260      ┆ 2650.0   ┆ 2150.0  │\n",
            "│ 2020-01-01 00:00:00 ┆ 2150      ┆ 2110      ┆ 2650.0   ┆ 2150.0  │\n",
            "│ 2020-03-10 00:00:00 ┆ 2250      ┆ 2210      ┆ 2650.0   ┆ 2150.0  │\n",
            "└─────────────────────┴───────────┴───────────┴──────────┴─────────┘\n"
          ]
        }
      ]
    },
    {
      "cell_type": "markdown",
      "source": [
        "# **¿Qué es `pl.col()`?**"
      ],
      "metadata": {
        "id": "pEpeCiPp09MF"
      }
    },
    {
      "cell_type": "markdown",
      "source": [
        "`pl.col()` es una función que devuelve un objeto de tipo expresión en Polars. Una expresión es una representación de una operación que se aplicará a una columna o conjunto de columnas en un DataFrame o LazyFrame. Estas expresiones son lazy (perezosas), lo que significa que no se ejecutan inmediatamente, sino que se acumulan en un plan de ejecución que se evaluará más tarde (por ejemplo, al llamar a `.collect()` o `.agg()`).\n",
        "\n"
      ],
      "metadata": {
        "id": "IEZt_bNS1HR-"
      }
    },
    {
      "cell_type": "markdown",
      "source": [
        "¿Para qué se usa `pl.col()`?"
      ],
      "metadata": {
        "id": "Yvvj-5uE1hIG"
      }
    },
    {
      "cell_type": "markdown",
      "source": [
        "* Seleccionar columnas: Hacer referencia a una columna por su nombre."
      ],
      "metadata": {
        "id": "MJoQz50T1qZl"
      }
    },
    {
      "cell_type": "code",
      "source": [
        "# Selecciona la columna \"edad\"\n",
        "pl.col(\"edad\")"
      ],
      "metadata": {
        "id": "oUVP7cnG2EQG"
      },
      "execution_count": null,
      "outputs": []
    },
    {
      "cell_type": "markdown",
      "source": [
        "* Aplicar transformaciones: Realizar operaciones (matemáticas, de cadena, de fecha, etc.) sobre una columna."
      ],
      "metadata": {
        "id": "fymkorje2ASW"
      }
    },
    {
      "cell_type": "code",
      "source": [
        "# Suma 10 a la columna \"edad\"\n",
        "pl.col(\"edad\") + 10"
      ],
      "metadata": {
        "id": "I_zkVpQI2JE-"
      },
      "execution_count": null,
      "outputs": []
    },
    {
      "cell_type": "markdown",
      "source": [
        "* Crear nuevas columnas: Definir cálculos que generen nuevas columnas."
      ],
      "metadata": {
        "id": "1q8tfidD2B9F"
      }
    },
    {
      "cell_type": "code",
      "source": [
        "# Crea una nueva columna \"edad_futura\" que es \"edad\" + 10\n",
        "df.with_columns(\n",
        "    (pl.col(\"edad\") + 10).alias(\"edad_futura\")\n",
        ")"
      ],
      "metadata": {
        "id": "9IggDU1L2Pum"
      },
      "execution_count": null,
      "outputs": []
    },
    {
      "cell_type": "markdown",
      "source": [
        "\n",
        "* Filtrar datos: Usar expresiones en combinación con `.filter()`."
      ],
      "metadata": {
        "id": "FoObRoIt2DOt"
      }
    },
    {
      "cell_type": "code",
      "source": [
        "# Filtra filas donde \"edad\" es mayor que 18\n",
        "df.filter(pl.col(\"edad\") > 18)"
      ],
      "metadata": {
        "id": "-tNvSXt62TNt"
      },
      "execution_count": null,
      "outputs": []
    },
    {
      "cell_type": "markdown",
      "source": [
        "¿Cómo se diferencia `pl.col()` de otros métodos?"
      ],
      "metadata": {
        "id": "WYk15IzlS75L"
      }
    },
    {
      "cell_type": "markdown",
      "source": [
        "* Accede directamente a los datos de la columna (no es una expresión)."
      ],
      "metadata": {
        "id": "DD7mWYMpTJV2"
      }
    },
    {
      "cell_type": "code",
      "source": [
        "df[\"columna\"]"
      ],
      "metadata": {
        "id": "fwKY9t-TTHrW"
      },
      "execution_count": null,
      "outputs": []
    },
    {
      "cell_type": "markdown",
      "source": [
        "* Selecciona columnas, pero no devuelve una expresión (devuelve un DataFrame)."
      ],
      "metadata": {
        "id": "i58CWRCXTMMe"
      }
    },
    {
      "cell_type": "code",
      "source": [
        "df.select()"
      ],
      "metadata": {
        "id": "11IKBm8ZTPD2"
      },
      "execution_count": null,
      "outputs": []
    },
    {
      "cell_type": "markdown",
      "source": [
        "# I. CALCULOS AGRUPADOS"
      ],
      "metadata": {
        "id": "zRe2wGSU21SG"
      }
    },
    {
      "cell_type": "markdown",
      "source": [
        "En Polars, hay tres maneras principales de realizar cálculos agrupados:\n",
        "\n",
        "*   **`.group_by()`**\n",
        "*   **`.over()`**\n",
        "*   **`.group_by_dynamic()`**\n",
        "\n",
        "En todos los metodos, se busca analizar de forma cuantitativa (metodos estadisticos y entre otros).\n",
        "\n",
        "Veamos los siguientes ejemplos:"
      ],
      "metadata": {
        "id": "cnG4GM2F0Nor"
      }
    },
    {
      "cell_type": "markdown",
      "source": [
        "# Tanto el metodo '`over`' como '`group_by`' los grupos se definen como 'conjunto de datos repetidos (no únicos) ordenados o dispersos. Mientras que en `group_by_dynamic` los grupos se definen por tiempo, agrupandose por diferentes temporalidades"
      ],
      "metadata": {
        "id": "gQWUaWvMeprD"
      }
    },
    {
      "cell_type": "markdown",
      "source": [
        "### 1. **group_by()**\n",
        "*   Es un metodo de objetos de tipo LazyFrame y DataFrame. Es un metodo de agregación clásico, disponible también en sql.\n",
        "\n",
        "Criterios de uso:\n",
        "\n",
        "* Para crear tablas de resumen con estadísticas clave por categoría (grupo).\n",
        "* Cuando queremos solo los calculos agrupados eliminando las demás filas (un nuevo frame con menos filas).\n",
        "* Cuando trabajas con datasets muy grandes y necesitas reducir el volumen de datos desde el principio en el procesamiento.\n",
        "\n",
        "¿como usarlo?:\n",
        "1. Se debe especificar la columna donde están los grupos con `pl.col(...)`\n",
        "2. Asignamos `True` al parámetro 'maintain_order'para mantener el orden de la columna de los grupos (es un paràmetro opcional).\n",
        "2. Despues, se debe agregar el metodo `agg()` para los calculos agrupados\n",
        "3. En caso de hacer varios calculos agregados, encerrar todo entre `[ ]` separando cada calculo por comas\n",
        "\n"
      ],
      "metadata": {
        "id": "6tHJGYps3Z4x"
      }
    },
    {
      "cell_type": "markdown",
      "source": [
        "* Cuando necesitas grupos definidos por combinaciones de varias columnas."
      ],
      "metadata": {
        "id": "9lkEGd57c1w1"
      }
    },
    {
      "cell_type": "code",
      "source": [
        "# En este caso se agrupan por grupos encontrados en la columna *entry_time*\n",
        "lf_group_by = lf.group_by(\"entry_time\",maintain_order=True).agg(\n",
        "    [pl.col(\"High\").max().alias(\"max_agg\"),\n",
        "     pl.col(\"High\").min().alias(\"min_agg\"),]\n",
        ")\n",
        "print(lf_group_by.collect())\n",
        "\n",
        "#\n",
        "\"\"\"\n",
        "Ejemplo de uso cuando queremos un resumen por cada grupo:\n",
        "\n",
        "df.group_by(\"departamento\").agg(\n",
        "    pl.col(\"ventas\").mean().alias(\"ventas_promedio\"),\n",
        "    pl.col(\"empleados\").count().alias(\"total_empleados\")\n",
        ")\n",
        "\n",
        "En este ejemplo tenemos una columna con todos los departamentos (grupos a analizar), el de ventas y el de empleados, y queremos obtener el promedio de ventas y el total de empleados por departamento.\n",
        "----------------------------------------------------\n",
        "\n",
        "Ejemplo de uso cuando necesitas grupos definidos por combinaciones de varias columnas.\n",
        "\n",
        "df.group_by([\"pais\", \"ciudad\"]).agg(\n",
        "    pl.col(\"ventas\").sum().alias(\"ventas_totales\")\n",
        ")\n",
        "------------------------------\n",
        "Ejemplo de uso Para analizar distribuciones o frecuencias de categorías\n",
        "\n",
        "df.group_by(\"estado_civil\").agg(\n",
        "    pl.col(\"edad\").mean().alias(\"edad_promedio\"),\n",
        "    pl.col(\"id\").count().alias(\"total_personas\")\n",
        ")\n",
        "\n",
        "-------------------------\n",
        "Ejemplo de uso Para Cuando necesitas filtrar grupos completos basados en una condición.\n",
        "\n",
        "df.group_by(\"cliente\").agg(\n",
        "    pl.col(\"monto\").sum().alias(\"total_gastado\")\n",
        ").filter(pl.col(\"total_gastado\") > 1000)\n",
        "\n",
        "otros ejemplos:\n",
        "\n",
        "total_ventas = df.select(pl.col(\"ventas\").sum()).item()\n",
        "df.group_by(\"producto\").agg(\n",
        "    (pl.col(\"ventas\").sum() / total_ventas).alias(\"porcentaje_global\")\n",
        ")\n",
        "\n",
        "\"\"\"\n",
        "\n"
      ],
      "metadata": {
        "colab": {
          "base_uri": "https://localhost:8080/",
          "height": 348
        },
        "id": "nPF0gMj41bU6",
        "outputId": "41d34cc2-6a50-40a1-f0ea-939d75f09009"
      },
      "execution_count": null,
      "outputs": [
        {
          "output_type": "stream",
          "name": "stdout",
          "text": [
            "shape: (5, 3)\n",
            "┌─────────────────────┬─────────┬─────────┐\n",
            "│ entry_time          ┆ max_agg ┆ min_agg │\n",
            "│ ---                 ┆ ---     ┆ ---     │\n",
            "│ datetime[μs]        ┆ i64     ┆ i64     │\n",
            "╞═════════════════════╪═════════╪═════════╡\n",
            "│ 2020-01-01 00:00:00 ┆ 2150    ┆ 2110    │\n",
            "│ 2020-02-06 00:00:00 ┆ 2190    ┆ 2160    │\n",
            "│ 2020-02-10 00:00:00 ┆ 2200    ┆ 2200    │\n",
            "│ 2020-03-10 00:00:00 ┆ 2250    ┆ 2210    │\n",
            "│ 2020-05-16 00:00:00 ┆ 2300    ┆ 2260    │\n",
            "└─────────────────────┴─────────┴─────────┘\n"
          ]
        },
        {
          "output_type": "execute_result",
          "data": {
            "text/plain": [
              "'\\nEjemplo de uso cuando queremos un resumen por cada grupo:\\n\\ndf.group_by(\"departamento\").agg(\\n    pl.col(\"ventas\").mean().alias(\"ventas_promedio\"),\\n    pl.col(\"empleados\").count().alias(\"total_empleados\")\\n)\\n\\nEn este ejemplo tenemos una columna con todos los departamentos (grupos a analizar), el de ventas y el de empleados, y queremos obtener el promedio de ventas y el total de empleados por departamento.\\n----------------------------------------------------\\n\\nEjemplo de uso cuando necesitas grupos definidos por combinaciones de varias columnas.\\n\\ndf.group_by([\"pais\", \"ciudad\"]).agg(\\n    pl.col(\"ventas\").sum().alias(\"ventas_totales\")\\n)\\n------------------------------\\nEjemplo de uso Para analizar distribuciones o frecuencias de categorías\\n\\ndf.group_by(\"estado_civil\").agg(\\n    pl.col(\"edad\").mean().alias(\"edad_promedio\"),\\n    pl.col(\"id\").count().alias(\"total_personas\")\\n)\\n\\n-------------------------\\nEjemplo de uso Para Cuando necesitas filtrar grupos completos basados en una condición.\\n\\ndf.group_by(\"cliente\").agg(\\n    pl.col(\"monto\").sum().alias(\"total_gastado\")\\n).filter(pl.col(\"total_gastado\") > 1000)\\n\\notros ejemplos:\\n\\ntotal_ventas = df.select(pl.col(\"ventas\").sum()).item()\\ndf.group_by(\"producto\").agg(\\n    (pl.col(\"ventas\").sum() / total_ventas).alias(\"porcentaje_global\")\\n)\\n\\n'"
            ],
            "application/vnd.google.colaboratory.intrinsic+json": {
              "type": "string"
            }
          },
          "metadata": {},
          "execution_count": 11
        }
      ]
    },
    {
      "cell_type": "markdown",
      "source": [
        "Recuerda que la forma de usar group_by es primero colocar el lazyframe o dataframe, luego colocar el metodo group_by, despues especificar el nombre de la columna donde estàn los grupos, luego colocar el metodo agg y dentro colocar los calculos agregados."
      ],
      "metadata": {
        "id": "ivA7WF_H1SNe"
      }
    },
    {
      "cell_type": "markdown",
      "source": [
        " 2. **.over()**\n",
        "\n",
        "*   Es una funcion de ventana (window functions). Disponible también en sql.\n",
        "\n",
        "Criterios de uso:\n",
        "*   Si solo necesitas añadir una columna con el maximo/minimo/promedio (cualquier calculo) de cada grupo.\n",
        "*   Mantener las filas y agregar una nueva columna con la información adicional.\n",
        "*   Ranking y Clasificación por Grupo.\n",
        "\n",
        "¿como usarlo?:\n",
        "\n",
        "*   Primero al lazy frame o data frame se agrega el metodo `with_columns()` para modificar las columnas del frame.\n",
        "*   Se debe especificar la columna a modificar, puede ser con `pl.col(...)`\n",
        "*   Se especifica el tipo de calculo a realizar 'max,min,mean' etc..\n",
        "*   Se agrega el metodo `over()`\n",
        "*   OPCIONAL: Se coloca un nombre para la colulmna con `alias()`, si no se modifica la columna a la que se hace referencia.\n",
        "\n",
        "**ATENCIÓN: Cuando el rendimiento es crítico. .over() es menos eficiente que group_by.**\n",
        "###### *(para obtener el mismo resultado que group_by se aplicaria el metodo `.unique()`.)*\n",
        "\n",
        "En este caso se agrupan por grupos encontrados en la columna *entry_time*"
      ],
      "metadata": {
        "id": "_R-QgIJA3v0B"
      }
    },
    {
      "cell_type": "code",
      "source": [
        "lf_over = lf.with_columns(\n",
        "    pl.col(\"High\").max().over(\"entry_time\").alias(\"max_high\")\n",
        ")\n",
        "\n",
        "print(lf_over.collect())"
      ],
      "metadata": {
        "colab": {
          "base_uri": "https://localhost:8080/"
        },
        "id": "BqVo_qkA3Jzh",
        "outputId": "8782e2a4-c62f-4b5c-c684-76d10513f974"
      },
      "execution_count": null,
      "outputs": [
        {
          "output_type": "stream",
          "name": "stdout",
          "text": [
            "shape: (20, 7)\n",
            "┌─────────────────────┬─────────────────────┬──────┬──────┬─────────┬────────┬──────────┐\n",
            "│ Date                ┆ entry_time          ┆ High ┆ Low  ┆ Highest ┆ Lowest ┆ max_high │\n",
            "│ ---                 ┆ ---                 ┆ ---  ┆ ---  ┆ ---     ┆ ---    ┆ ---      │\n",
            "│ datetime[μs]        ┆ datetime[μs]        ┆ i64  ┆ i64  ┆ i64     ┆ i64    ┆ i64      │\n",
            "╞═════════════════════╪═════════════════════╪══════╪══════╪═════════╪════════╪══════════╡\n",
            "│ 2020-01-01 00:00:00 ┆ 2020-01-01 00:00:00 ┆ 2110 ┆ 2105 ┆ 2650    ┆ 2150   ┆ 2150     │\n",
            "│ 2020-01-02 00:00:00 ┆ 2020-01-01 00:00:00 ┆ 2120 ┆ 2115 ┆ 2650    ┆ 2150   ┆ 2150     │\n",
            "│ 2020-01-03 00:00:00 ┆ 2020-01-01 00:00:00 ┆ 2130 ┆ 2125 ┆ 2650    ┆ 2150   ┆ 2150     │\n",
            "│ 2020-01-04 00:00:00 ┆ 2020-01-01 00:00:00 ┆ 2140 ┆ 2135 ┆ 2650    ┆ 2150   ┆ 2150     │\n",
            "│ 2020-01-05 00:00:00 ┆ 2020-01-01 00:00:00 ┆ 2150 ┆ 2145 ┆ 2650    ┆ 2150   ┆ 2150     │\n",
            "│ …                   ┆ …                   ┆ …    ┆ …    ┆ …       ┆ …      ┆ …        │\n",
            "│ 2020-05-16 00:00:00 ┆ 2020-05-16 00:00:00 ┆ 2260 ┆ 2255 ┆ 2650    ┆ 2150   ┆ 2300     │\n",
            "│ 2020-05-17 00:00:00 ┆ 2020-05-16 00:00:00 ┆ 2270 ┆ 2265 ┆ 2650    ┆ 2150   ┆ 2300     │\n",
            "│ 2020-05-18 00:00:00 ┆ 2020-05-16 00:00:00 ┆ 2280 ┆ 2275 ┆ 2650    ┆ 2150   ┆ 2300     │\n",
            "│ 2020-05-19 00:00:00 ┆ 2020-05-16 00:00:00 ┆ 2290 ┆ 2285 ┆ 2650    ┆ 2150   ┆ 2300     │\n",
            "│ 2020-05-20 00:00:00 ┆ 2020-05-16 00:00:00 ┆ 2300 ┆ 2295 ┆ 2650    ┆ 2150   ┆ 2300     │\n",
            "└─────────────────────┴─────────────────────┴──────┴──────┴─────────┴────────┴──────────┘\n"
          ]
        }
      ]
    },
    {
      "cell_type": "markdown",
      "source": [
        "#¿Cual es la diferencia entre group_by y 'group_by_dynamic'?"
      ],
      "metadata": {
        "id": "8qJGP-vBjR3a"
      }
    },
    {
      "cell_type": "markdown",
      "source": [
        "La diferencia PRINCIPAL radica en el criterio de agrupación...\n",
        "\n",
        "En el caso de `group_by` se agrupan por grupos donde dichos grupos son valores exactamente iguales (valores que se repiten) generando asi una lista por cada grupo (valores repetidos exactamente iguales) para despues calcular alguna metrica como el minimo, maximo etcc segun sea el caso.\n",
        "\n",
        "**POR OTRO LADO**\n",
        "\n",
        "En el caso de `group_by_dynamic` se agrupan por intervalos de tiempo, aqui no existe agrupación por valores repetidos como en el caso de `group_by`, aqui se agrupan los datos por caracteristicas propias del tiempo como las diferentes temporalidades (dia, hora, minuto, segundo), inicio en una hora o dia específico (por ejemplo iniciar la agrupación el martes), además tiene un argumento llamado group_by que es practicamente como usar la funcion en cuestión pero dentro de 'group_by_dynamic' (un combinao)"
      ],
      "metadata": {
        "id": "FKEfNoiOjZ9x"
      }
    },
    {
      "cell_type": "markdown",
      "source": [
        " 3. **** → Agrupaciones temporales (series de tiempo).\n",
        "Se usa cuando la columna de agrupación es una fecha.\n",
        "Permite agrupar por intervalos como \"1d\", \"1w\", \"1h\", etc.\n",
        "\n",
        "\n",
        "### 1. **.group_by_dynamic()**\n",
        "*   Es un metodo de objetos de tipo LazyFrame y DataFrame. Está diseñado específicamente para agrupar datos de series temporales en ventanas dinámicas basadas en intervalos de tiempo (como días, horas, semanas, etc.).\n",
        "\n",
        "Criterios de uso:\n",
        "\n",
        "* Agrupación por intervalos de tiempo (ej: cada 1 hora, cada 5 días).\n",
        "* Ventanas móviles superpuestas (ej: ventana de 7 días que se desplaza cada 3 días).\n",
        "* Datos temporales con timestamps irregulares (ej: datos de sensores con mediciones no uniformes).\n",
        "* Agregaciones en tiempo real (ej: calcular métricas cada 30 minutos).\n",
        "\n",
        "¿como usarlo?:\n",
        "1. Se debe especificar la columna donde están los grupos con `pl.col(...)`\n",
        "2. Asignamos `True` al parámetro 'maintain_order'para mantener el orden de la columna de los grupos (es un paràmetro opcional).\n",
        "2. Despues, se debe agregar el metodo `agg()` para los calculos agrupados\n",
        "3. En caso de hacer varios calculos agregados, encerrar todo entre `[ ]` separando cada calculo por comas\n",
        "\n"
      ],
      "metadata": {
        "id": "PAa-Sh0l5meD"
      }
    },
    {
      "cell_type": "code",
      "source": [
        "lf.group_by_dynamic(\"Date\", every=\"5d\").agg(\n",
        "    pl.col(\"High\").max()\n",
        ")\n",
        "lf.collect()"
      ],
      "metadata": {
        "id": "FlS8h8jWSH1f",
        "colab": {
          "base_uri": "https://localhost:8080/",
          "height": 443
        },
        "outputId": "36f82aff-effa-437b-a366-2305ca9feeaa"
      },
      "execution_count": null,
      "outputs": [
        {
          "output_type": "execute_result",
          "data": {
            "text/plain": [
              "shape: (20, 6)\n",
              "┌─────────────────────┬─────────────────────┬──────┬──────┬─────────┬────────┐\n",
              "│ Date                ┆ entry_time          ┆ High ┆ Low  ┆ Highest ┆ Lowest │\n",
              "│ ---                 ┆ ---                 ┆ ---  ┆ ---  ┆ ---     ┆ ---    │\n",
              "│ datetime[μs]        ┆ datetime[μs]        ┆ i64  ┆ i64  ┆ i64     ┆ i64    │\n",
              "╞═════════════════════╪═════════════════════╪══════╪══════╪═════════╪════════╡\n",
              "│ 2020-01-01 00:00:00 ┆ 2020-01-01 00:00:00 ┆ 2110 ┆ 2105 ┆ 2650    ┆ 2150   │\n",
              "│ 2020-01-02 00:00:00 ┆ 2020-01-01 00:00:00 ┆ 2120 ┆ 2115 ┆ 2650    ┆ 2150   │\n",
              "│ 2020-01-03 00:00:00 ┆ 2020-01-01 00:00:00 ┆ 2130 ┆ 2125 ┆ 2650    ┆ 2150   │\n",
              "│ 2020-01-04 00:00:00 ┆ 2020-01-01 00:00:00 ┆ 2140 ┆ 2135 ┆ 2650    ┆ 2150   │\n",
              "│ 2020-01-05 00:00:00 ┆ 2020-01-01 00:00:00 ┆ 2150 ┆ 2145 ┆ 2650    ┆ 2150   │\n",
              "│ …                   ┆ …                   ┆ …    ┆ …    ┆ …       ┆ …      │\n",
              "│ 2020-05-16 00:00:00 ┆ 2020-05-16 00:00:00 ┆ 2260 ┆ 2255 ┆ 2650    ┆ 2150   │\n",
              "│ 2020-05-17 00:00:00 ┆ 2020-05-16 00:00:00 ┆ 2270 ┆ 2265 ┆ 2650    ┆ 2150   │\n",
              "│ 2020-05-18 00:00:00 ┆ 2020-05-16 00:00:00 ┆ 2280 ┆ 2275 ┆ 2650    ┆ 2150   │\n",
              "│ 2020-05-19 00:00:00 ┆ 2020-05-16 00:00:00 ┆ 2290 ┆ 2285 ┆ 2650    ┆ 2150   │\n",
              "│ 2020-05-20 00:00:00 ┆ 2020-05-16 00:00:00 ┆ 2300 ┆ 2295 ┆ 2650    ┆ 2150   │\n",
              "└─────────────────────┴─────────────────────┴──────┴──────┴─────────┴────────┘"
            ],
            "text/html": [
              "<div><style>\n",
              ".dataframe > thead > tr,\n",
              ".dataframe > tbody > tr {\n",
              "  text-align: right;\n",
              "  white-space: pre-wrap;\n",
              "}\n",
              "</style>\n",
              "<small>shape: (20, 6)</small><table border=\"1\" class=\"dataframe\"><thead><tr><th>Date</th><th>entry_time</th><th>High</th><th>Low</th><th>Highest</th><th>Lowest</th></tr><tr><td>datetime[μs]</td><td>datetime[μs]</td><td>i64</td><td>i64</td><td>i64</td><td>i64</td></tr></thead><tbody><tr><td>2020-01-01 00:00:00</td><td>2020-01-01 00:00:00</td><td>2110</td><td>2105</td><td>2650</td><td>2150</td></tr><tr><td>2020-01-02 00:00:00</td><td>2020-01-01 00:00:00</td><td>2120</td><td>2115</td><td>2650</td><td>2150</td></tr><tr><td>2020-01-03 00:00:00</td><td>2020-01-01 00:00:00</td><td>2130</td><td>2125</td><td>2650</td><td>2150</td></tr><tr><td>2020-01-04 00:00:00</td><td>2020-01-01 00:00:00</td><td>2140</td><td>2135</td><td>2650</td><td>2150</td></tr><tr><td>2020-01-05 00:00:00</td><td>2020-01-01 00:00:00</td><td>2150</td><td>2145</td><td>2650</td><td>2150</td></tr><tr><td>&hellip;</td><td>&hellip;</td><td>&hellip;</td><td>&hellip;</td><td>&hellip;</td><td>&hellip;</td></tr><tr><td>2020-05-16 00:00:00</td><td>2020-05-16 00:00:00</td><td>2260</td><td>2255</td><td>2650</td><td>2150</td></tr><tr><td>2020-05-17 00:00:00</td><td>2020-05-16 00:00:00</td><td>2270</td><td>2265</td><td>2650</td><td>2150</td></tr><tr><td>2020-05-18 00:00:00</td><td>2020-05-16 00:00:00</td><td>2280</td><td>2275</td><td>2650</td><td>2150</td></tr><tr><td>2020-05-19 00:00:00</td><td>2020-05-16 00:00:00</td><td>2290</td><td>2285</td><td>2650</td><td>2150</td></tr><tr><td>2020-05-20 00:00:00</td><td>2020-05-16 00:00:00</td><td>2300</td><td>2295</td><td>2650</td><td>2150</td></tr></tbody></table></div>"
            ]
          },
          "metadata": {},
          "execution_count": 8
        }
      ]
    },
    {
      "cell_type": "markdown",
      "source": [
        "Primero creamos un DataFrame de ejemplo"
      ],
      "metadata": {
        "id": "mJLKiYz_KsUS"
      }
    },
    {
      "cell_type": "code",
      "source": [
        "import polars as pl\n",
        "from datetime import datetime\n",
        "\n",
        "# Crear DataFrame con timestamps\n",
        "df = pl.DataFrame({\n",
        "    \"timestamp\": pl.datetime_range(\n",
        "        start=datetime(2023, 1, 1, 8),\n",
        "        end=datetime(2023, 1, 1, 12),\n",
        "        interval=\"30m\",\n",
        "        eager=True\n",
        "    ),\n",
        "    \"value\": [10, 20, 30, 40, 50, 60, 70, 80, 90],\n",
        "    \"category\": [\"A\", \"A\", \"B\", \"B\", \"A\", \"B\", \"A\", \"B\", \"A\"]\n",
        "})\n",
        "\n",
        "print(df)"
      ],
      "metadata": {
        "id": "FsNKg8vYKuJi",
        "outputId": "a4f1fa0c-d1f6-4fa1-bfc0-25ebb4960e98",
        "colab": {
          "base_uri": "https://localhost:8080/"
        }
      },
      "execution_count": null,
      "outputs": [
        {
          "output_type": "stream",
          "name": "stdout",
          "text": [
            "shape: (9, 3)\n",
            "┌─────────────────────┬───────┬──────────┐\n",
            "│ timestamp           ┆ value ┆ category │\n",
            "│ ---                 ┆ ---   ┆ ---      │\n",
            "│ datetime[μs]        ┆ i64   ┆ str      │\n",
            "╞═════════════════════╪═══════╪══════════╡\n",
            "│ 2023-01-01 08:00:00 ┆ 10    ┆ A        │\n",
            "│ 2023-01-01 08:30:00 ┆ 20    ┆ A        │\n",
            "│ 2023-01-01 09:00:00 ┆ 30    ┆ B        │\n",
            "│ 2023-01-01 09:30:00 ┆ 40    ┆ B        │\n",
            "│ 2023-01-01 10:00:00 ┆ 50    ┆ A        │\n",
            "│ 2023-01-01 10:30:00 ┆ 60    ┆ B        │\n",
            "│ 2023-01-01 11:00:00 ┆ 70    ┆ A        │\n",
            "│ 2023-01-01 11:30:00 ┆ 80    ┆ B        │\n",
            "│ 2023-01-01 12:00:00 ┆ 90    ┆ A        │\n",
            "└─────────────────────┴───────┴──────────┘\n"
          ]
        }
      ]
    },
    {
      "cell_type": "markdown",
      "source": [
        "* Ejemplo 1: Agrupación Diaria (ventanas de 1 día)"
      ],
      "metadata": {
        "id": "yxN8tMq-g_gT"
      }
    },
    {
      "cell_type": "code",
      "source": [
        "result = df.group_by_dynamic(\n",
        "    index_column=\"timestamp\",\n",
        "    every=\"1h\",\n",
        "    closed=\"both\",  # Intervalo cerrado en ambos extremos (los incluye): [start, end]\n",
        "    include_boundaries=True\n",
        ").agg(pl.col(\"value\").max())\n",
        "\n",
        "print(result)"
      ],
      "metadata": {
        "colab": {
          "base_uri": "https://localhost:8080/"
        },
        "id": "WLxIdoCAhIzf",
        "outputId": "f17e653f-14aa-4766-ce5c-f645ce6d898d"
      },
      "execution_count": null,
      "outputs": [
        {
          "output_type": "stream",
          "name": "stdout",
          "text": [
            "shape: (5, 4)\n",
            "┌─────────────────────┬─────────────────────┬─────────────────────┬───────┐\n",
            "│ _lower_boundary     ┆ _upper_boundary     ┆ timestamp           ┆ value │\n",
            "│ ---                 ┆ ---                 ┆ ---                 ┆ ---   │\n",
            "│ datetime[μs]        ┆ datetime[μs]        ┆ datetime[μs]        ┆ i64   │\n",
            "╞═════════════════════╪═════════════════════╪═════════════════════╪═══════╡\n",
            "│ 2023-01-01 08:00:00 ┆ 2023-01-01 09:00:00 ┆ 2023-01-01 08:00:00 ┆ 30    │\n",
            "│ 2023-01-01 09:00:00 ┆ 2023-01-01 10:00:00 ┆ 2023-01-01 09:00:00 ┆ 50    │\n",
            "│ 2023-01-01 10:00:00 ┆ 2023-01-01 11:00:00 ┆ 2023-01-01 10:00:00 ┆ 70    │\n",
            "│ 2023-01-01 11:00:00 ┆ 2023-01-01 12:00:00 ┆ 2023-01-01 11:00:00 ┆ 90    │\n",
            "│ 2023-01-01 12:00:00 ┆ 2023-01-01 13:00:00 ┆ 2023-01-01 12:00:00 ┆ 90    │\n",
            "└─────────────────────┴─────────────────────┴─────────────────────┴───────┘\n"
          ]
        }
      ]
    },
    {
      "cell_type": "markdown",
      "source": [
        "* Ejemplo 2: Ventanas Superpuestas (period > every)"
      ],
      "metadata": {
        "id": "FrmAt90VdqSG"
      }
    },
    {
      "cell_type": "code",
      "source": [
        "result = df.group_by_dynamic(\n",
        "    index_column=\"timestamp\",\n",
        "    every=\"1h\",\n",
        "    period=\"2h\",           # Ventanas de 2 horas\n",
        "    closed=\"both\",         # Intervalo cerrado en ambos extremos: [start, end]\n",
        "    include_boundaries=True\n",
        ").agg(pl.col(\"value\").sum())\n",
        "\n",
        "print(result)"
      ],
      "metadata": {
        "colab": {
          "base_uri": "https://localhost:8080/"
        },
        "id": "fxUX0P4rdHgT",
        "outputId": "8389b609-ae5c-4f7e-b6b3-1a45b36193af"
      },
      "execution_count": null,
      "outputs": [
        {
          "output_type": "stream",
          "name": "stdout",
          "text": [
            "shape: (5, 4)\n",
            "┌─────────────────────┬─────────────────────┬─────────────────────┬───────┐\n",
            "│ _lower_boundary     ┆ _upper_boundary     ┆ timestamp           ┆ value │\n",
            "│ ---                 ┆ ---                 ┆ ---                 ┆ ---   │\n",
            "│ datetime[μs]        ┆ datetime[μs]        ┆ datetime[μs]        ┆ i64   │\n",
            "╞═════════════════════╪═════════════════════╪═════════════════════╪═══════╡\n",
            "│ 2023-01-01 08:00:00 ┆ 2023-01-01 10:00:00 ┆ 2023-01-01 08:00:00 ┆ 150   │\n",
            "│ 2023-01-01 09:00:00 ┆ 2023-01-01 11:00:00 ┆ 2023-01-01 09:00:00 ┆ 250   │\n",
            "│ 2023-01-01 10:00:00 ┆ 2023-01-01 12:00:00 ┆ 2023-01-01 10:00:00 ┆ 350   │\n",
            "│ 2023-01-01 11:00:00 ┆ 2023-01-01 13:00:00 ┆ 2023-01-01 11:00:00 ┆ 240   │\n",
            "│ 2023-01-01 12:00:00 ┆ 2023-01-01 14:00:00 ┆ 2023-01-01 12:00:00 ┆ 90    │\n",
            "└─────────────────────┴─────────────────────┴─────────────────────┴───────┘\n"
          ]
        }
      ]
    },
    {
      "cell_type": "markdown",
      "source": [
        "Parámetros Clave de group_by_dynamic()"
      ],
      "metadata": {
        "id": "Ovd3wJlUVNTM"
      }
    },
    {
      "cell_type": "markdown",
      "source": [
        "\n",
        "Parámetro\tDescripción\tEjemplo\n",
        "time_column\tColumna de tipo datetime que se usará como referencia temporal.\t\"timestamp\"\n",
        "every\tDuración entre el inicio de cada ventana (ej: \"1h\", \"2d\", \"30m\").\tevery=\"1d\"\n",
        "period\tDuración de cada ventana (puede ser mayor que every para ventanas superpuestas).\tperiod=\"2d\"\n",
        "offset\tDesplazamiento inicial para ajustar el inicio de las ventanas.\toffset=\"-1d\"\n",
        "truncate\tSi True, trunca los resultados a las ventanas completas (útil para datos incompletos).\ttruncate=True\n",
        "include_boundaries\tSi True, incluye columnas con los límites de cada ventana.\tinclude_boundaries=True"
      ],
      "metadata": {
        "id": "6blVJFhyVRsp"
      }
    },
    {
      "cell_type": "markdown",
      "source": [
        "# Mas ejemplos de uso de 'group_by' y 'over'"
      ],
      "metadata": {
        "id": "YWkIXAF6tIwl"
      }
    },
    {
      "cell_type": "markdown",
      "source": [
        "En Polars, el método **`.over()`** se usa en expresiones para calcular funciones de ventana (window functions), lo que permite mantener todas las filas en lugar de reducirlas como lo hace **`.group_by()`**.\n",
        "\n",
        "Para obtener los mismos resultados de agregación usando **`.over()`** , podemos hacer lo siguiente:"
      ],
      "metadata": {
        "id": "n4wRBwzOwUhZ"
      }
    },
    {
      "cell_type": "markdown",
      "source": [
        "Primero creamos un LazyFrame de ejemplo:"
      ],
      "metadata": {
        "id": "N2b1lgzGrOfF"
      }
    },
    {
      "cell_type": "code",
      "source": [
        "import polars as pl\n",
        "\n",
        "print(\"Sales for each employee\")\n",
        "lf = pl.LazyFrame(\n",
        "    {\n",
        "        \"Dia\": [1, 1, 1, 2, 2, 2],\n",
        "        \"Sale\": [10, 15, 16, 20, 30, 10],\n",
        "        \"Name\": [\"pepe\", \"carlos\", \"juan\", \"pepe\", \"carlos\", \"juan\"],\n",
        "    }\n",
        ")\n",
        "print(lf.collect())"
      ],
      "metadata": {
        "id": "-T-haGluwi2r",
        "colab": {
          "base_uri": "https://localhost:8080/"
        },
        "outputId": "2f44d906-7b09-4fb6-cd62-98f0713106fd"
      },
      "execution_count": null,
      "outputs": [
        {
          "output_type": "stream",
          "name": "stdout",
          "text": [
            "Sales for each employee\n",
            "shape: (6, 3)\n",
            "┌─────┬──────┬────────┐\n",
            "│ Dia ┆ Sale ┆ Name   │\n",
            "│ --- ┆ ---  ┆ ---    │\n",
            "│ i64 ┆ i64  ┆ str    │\n",
            "╞═════╪══════╪════════╡\n",
            "│ 1   ┆ 10   ┆ pepe   │\n",
            "│ 1   ┆ 15   ┆ carlos │\n",
            "│ 1   ┆ 16   ┆ juan   │\n",
            "│ 2   ┆ 20   ┆ pepe   │\n",
            "│ 2   ┆ 30   ┆ carlos │\n",
            "│ 2   ┆ 10   ┆ juan   │\n",
            "└─────┴──────┴────────┘\n"
          ]
        }
      ]
    },
    {
      "cell_type": "markdown",
      "source": [
        "Ejemplo con group by"
      ],
      "metadata": {
        "id": "s8xyhA84rXTc"
      }
    },
    {
      "cell_type": "code",
      "source": [
        "# En esta linea, se agrupan por los grupos que se encuentran en la columna 'Name'\n",
        "lf_grouped = lf.group_by(pl.col(\"Name\"), maintain_order=True).agg(\n",
        "    [\n",
        "        # En estas lineas, se hallan las metricas de la columna 'Sale'\n",
        "        pl.col(\"Sale\").count().alias(\"count\"),\n",
        "        pl.col(\"Sale\").first().alias(\"first\"),\n",
        "        pl.col(\"Sale\").last().alias(\"last\"),\n",
        "        pl.col(\"Sale\").max().alias(\"max\"),\n",
        "        pl.col(\"Sale\").min().alias(\"min\"),\n",
        "        pl.col(\"Sale\").arg_max().alias(\"arg_max\"),\n",
        "        pl.col(\"Sale\").arg_min().alias(\"arg_min\"),\n",
        "        pl.col(\"Sale\").sum().alias(\"sum\"),\n",
        "        pl.col(\"Sale\").mean().alias(\"mean\"),\n",
        "        pl.col(\"Sale\").median().alias(\"median\"),\n",
        "        pl.col(\"Sale\").mode().alias(\"mode\"),\n",
        "        pl.col(\"Sale\").std().alias(\"std\"),\n",
        "        pl.col(\"Sale\").var().alias(\"var\"),\n",
        "        pl.col(\"Sale\").quantile(0.8).alias(\"quantile\"),\n",
        "        pl.col(\"Sale\").n_unique().alias(\"n_unique\"),\n",
        "        pl.col(\"Sale\").kurtosis().alias(\"kurtosis\"),\n",
        "        pl.col(\"Sale\").product().alias(\"product\"),\n",
        "        pl.col(\"Sale\").skew().alias(\"skew\"),\n",
        "    ]\n",
        ")\n",
        "\n",
        "print(lf_grouped.collect())"
      ],
      "metadata": {
        "colab": {
          "base_uri": "https://localhost:8080/"
        },
        "id": "axhzkidIrfQV",
        "outputId": "d4182453-4d87-412c-a5ba-661428fad554"
      },
      "execution_count": null,
      "outputs": [
        {
          "output_type": "stream",
          "name": "stdout",
          "text": [
            "shape: (3, 19)\n",
            "┌────────┬───────┬───────┬──────┬───┬──────────┬──────────┬─────────┬──────┐\n",
            "│ Name   ┆ count ┆ first ┆ last ┆ … ┆ n_unique ┆ kurtosis ┆ product ┆ skew │\n",
            "│ ---    ┆ ---   ┆ ---   ┆ ---  ┆   ┆ ---      ┆ ---      ┆ ---     ┆ ---  │\n",
            "│ str    ┆ u32   ┆ i64   ┆ i64  ┆   ┆ u32      ┆ f64      ┆ i64     ┆ f64  │\n",
            "╞════════╪═══════╪═══════╪══════╪═══╪══════════╪══════════╪═════════╪══════╡\n",
            "│ pepe   ┆ 2     ┆ 10    ┆ 20   ┆ … ┆ 2        ┆ -2.0     ┆ 200     ┆ 0.0  │\n",
            "│ carlos ┆ 2     ┆ 15    ┆ 30   ┆ … ┆ 2        ┆ -2.0     ┆ 450     ┆ 0.0  │\n",
            "│ juan   ┆ 2     ┆ 16    ┆ 10   ┆ … ┆ 2        ┆ -2.0     ┆ 160     ┆ 0.0  │\n",
            "└────────┴───────┴───────┴──────┴───┴──────────┴──────────┴─────────┴──────┘\n"
          ]
        }
      ]
    },
    {
      "cell_type": "markdown",
      "source": [
        "Ejemplo con el metodo over"
      ],
      "metadata": {
        "id": "e570Yw9Orgf1"
      }
    },
    {
      "cell_type": "code",
      "source": [
        "# En esta linea, se usa el metodo 'with_column'\n",
        "lf_over = lf.with_columns(\n",
        "    [\n",
        "        # En estas lineas se hacen calculos a la columna 'Sale'\n",
        "        # en funciòn a los grupos de la columna 'Name'\n",
        "        pl.col(\"Sale\").count().over(\"Name\").alias(\"count\"),\n",
        "        pl.col(\"Sale\").first().over(\"Name\").alias(\"first\"),\n",
        "        pl.col(\"Sale\").last().over(\"Name\").alias(\"last\"),\n",
        "        pl.col(\"Sale\").max().over(\"Name\").alias(\"max\"),\n",
        "        pl.col(\"Sale\").min().over(\"Name\").alias(\"min\"),\n",
        "        pl.col(\"Sale\").arg_max().over(\"Name\").alias(\"arg_max\"),\n",
        "        pl.col(\"Sale\").arg_min().over(\"Name\").alias(\"arg_min\"),\n",
        "        pl.col(\"Sale\").sum().over(\"Name\").alias(\"sum\"),\n",
        "        pl.col(\"Sale\").mean().over(\"Name\").alias(\"mean\"),\n",
        "        pl.col(\"Sale\").median().over(\"Name\").alias(\"median\"),\n",
        "        pl.col(\"Sale\").mode().over(\"Name\").alias(\"mode\"),\n",
        "        pl.col(\"Sale\").std().over(\"Name\").alias(\"std\"),\n",
        "        pl.col(\"Sale\").var().over(\"Name\").alias(\"var\"),\n",
        "        pl.col(\"Sale\").quantile(0.8).over(\"Name\").alias(\"quantile\"),\n",
        "        pl.col(\"Sale\").n_unique().over(\"Name\").alias(\"n_unique\"),\n",
        "        pl.col(\"Sale\").kurtosis().over(\"Name\").alias(\"kurtosis\"),\n",
        "        pl.col(\"Sale\").product().over(\"Name\").alias(\"product\"),\n",
        "        pl.col(\"Sale\").skew().over(\"Name\").alias(\"skew\"),\n",
        "\n",
        "        ]\n",
        "    )\n",
        "print(lf_over.collect())"
      ],
      "metadata": {
        "colab": {
          "base_uri": "https://localhost:8080/"
        },
        "id": "GtA9v_faGMwA",
        "outputId": "f38d37e1-fcd0-4c07-a0a2-e858ee75e76b"
      },
      "execution_count": null,
      "outputs": [
        {
          "output_type": "stream",
          "name": "stdout",
          "text": [
            "shape: (6, 21)\n",
            "┌─────┬──────┬────────┬───────┬───┬──────────┬──────────┬─────────┬──────┐\n",
            "│ Dia ┆ Sale ┆ Name   ┆ count ┆ … ┆ n_unique ┆ kurtosis ┆ product ┆ skew │\n",
            "│ --- ┆ ---  ┆ ---    ┆ ---   ┆   ┆ ---      ┆ ---      ┆ ---     ┆ ---  │\n",
            "│ i64 ┆ i64  ┆ str    ┆ u32   ┆   ┆ u32      ┆ f64      ┆ i64     ┆ f64  │\n",
            "╞═════╪══════╪════════╪═══════╪═══╪══════════╪══════════╪═════════╪══════╡\n",
            "│ 1   ┆ 10   ┆ pepe   ┆ 2     ┆ … ┆ 2        ┆ -2.0     ┆ 200     ┆ 0.0  │\n",
            "│ 1   ┆ 15   ┆ carlos ┆ 2     ┆ … ┆ 2        ┆ -2.0     ┆ 450     ┆ 0.0  │\n",
            "│ 1   ┆ 16   ┆ juan   ┆ 2     ┆ … ┆ 2        ┆ -2.0     ┆ 160     ┆ 0.0  │\n",
            "│ 2   ┆ 20   ┆ pepe   ┆ 2     ┆ … ┆ 2        ┆ -2.0     ┆ 200     ┆ 0.0  │\n",
            "│ 2   ┆ 30   ┆ carlos ┆ 2     ┆ … ┆ 2        ┆ -2.0     ┆ 450     ┆ 0.0  │\n",
            "│ 2   ┆ 10   ┆ juan   ┆ 2     ┆ … ┆ 2        ┆ -2.0     ┆ 160     ┆ 0.0  │\n",
            "└─────┴──────┴────────┴───────┴───┴──────────┴──────────┴─────────┴──────┘\n"
          ]
        }
      ]
    },
    {
      "cell_type": "markdown",
      "source": [
        "Mas ejemplos de uso de 'group_by_dynamic'"
      ],
      "metadata": {
        "id": "Pocxvax-XE7M"
      }
    },
    {
      "cell_type": "code",
      "source": [
        "time_series = pl.LazyFrame({\"id\":pl.datetime_range()})\n",
        "print(time_series.collect())"
      ],
      "metadata": {
        "id": "fwku313SXIbE",
        "colab": {
          "base_uri": "https://localhost:8080/"
        },
        "outputId": "0be3154e-b520-445c-926b-3541adf3d939"
      },
      "execution_count": null,
      "outputs": [
        {
          "output_type": "stream",
          "name": "stdout",
          "text": [
            "shape: (10, 1)\n",
            "┌─────┐\n",
            "│ id  │\n",
            "│ --- │\n",
            "│ i64 │\n",
            "╞═════╡\n",
            "│ 0   │\n",
            "│ 1   │\n",
            "│ 2   │\n",
            "│ 3   │\n",
            "│ 4   │\n",
            "│ 5   │\n",
            "│ 6   │\n",
            "│ 7   │\n",
            "│ 8   │\n",
            "│ 9   │\n",
            "└─────┘\n"
          ]
        }
      ]
    },
    {
      "cell_type": "markdown",
      "source": [
        "# Diferencias entre '`group_by_dynamic`' y '`dt.truncate`' dentro de '`group_by`' ."
      ],
      "metadata": {
        "id": "hmYBRhYL3bVG"
      }
    },
    {
      "cell_type": "markdown",
      "source": [
        "En primer lugar, recordar cómo funcionan ambas funciones. `group_by` con `dt.truncate` agrupará los datos en intervalos no solapados. Por ejemplo, truncando a «1h» se crearán cubos horarios, cada uno empezando en la parte superior de la hora. Cada fila pertenece exactamente a un grupo. Esto es sencillo y funciona bien para intervalos fijos sin solapamiento."
      ],
      "metadata": {
        "id": "erZjYbwC3_tm"
      }
    },
    {
      "cell_type": "code",
      "source": [
        "def write_parquet_time_frame(time_series: pl.LazyFrame, time_frame: str):\n",
        "  time_series = (\n",
        "      time_series.group_by(\n",
        "          pl.col(\"Date\").dt.truncate(time_frame)\n",
        "      )\n",
        "      .agg(\n",
        "          [\n",
        "              pl.first(\"Open\").alias(\"Open\"),\n",
        "              pl.max(\"High\").alias(\"High\"),\n",
        "              pl.min(\"Low\").alias(\"Low\"),\n",
        "              pl.last(\"Close\").alias(\"Close\"),\n",
        "          ]\n",
        "      )\n",
        "      .sort(\n",
        "          pl.col(\"Date\").dt.truncate(time_frame)\n",
        "      )\n",
        "  )"
      ],
      "metadata": {
        "id": "Rjq7JhJa5qs-"
      },
      "execution_count": null,
      "outputs": []
    },
    {
      "cell_type": "markdown",
      "source": [
        "Por otro lado, `group_by_dynamic` está diseñado para ventanas temporales que pueden solaparse o tener diferentes parámetros. Incluso si el usuario no utiliza `period` o `closed`, por defecto, `group_by_dynamic` utiliza `period` igual a `every`, lo que lo haría similar a truncar. Con `group_by_dynamic`, si `every` tiene el mismo valor que `period`, los grupos tampoco se solaparán.\n",
        "\n",
        "Otro punto es que `group_by_dynamic` podría manejar los intervalos de tiempo más eficientemente para datos de series temporales, especialmente cuando los datos están ordenados. Está optimizado para ventanas dinámicas, aunque en este caso no se solapen. Además, `group_by_dynamic` permite una mayor flexibilidad si el usuario desea más tarde añadir parámetros como un desplazamiento o cambiar el período para crear ventanas superpuestas."
      ],
      "metadata": {
        "id": "dWRcbDQk4O2W"
      }
    },
    {
      "cell_type": "code",
      "source": [
        "def write_parquet_time_frame(time_series: pl.LazyFrame, time_frame: str):\n",
        "  time_series = (\n",
        "      time_series.group_by_dynamic(\n",
        "          index_column=\"Date\",\n",
        "          every=time_frame,  # Ej: \"1h\"\n",
        "      )\n",
        "      .agg(\n",
        "          [\n",
        "              pl.first(\"Open\").alias(\"Open\"),\n",
        "              pl.max(\"High\").alias(\"High\"),\n",
        "              pl.min(\"Low\").alias(\"Low\"),\n",
        "              pl.last(\"Close\").alias(\"Close\"),\n",
        "          ]\n",
        "      )\n",
        "      .sort(\"Date\")\n",
        "  )"
      ],
      "metadata": {
        "id": "mQdJV-lZ6ysl"
      },
      "execution_count": null,
      "outputs": []
    },
    {
      "cell_type": "markdown",
      "source": [
        "La conclusión principal es que para intervalos simples, fijos y no solapados, ambos métodos pueden lograr resultados similares, pero `group_by` con truncamiento es más sencillo y directo. En cambio, `group_by_dynamic` es más adecuado para ventanas dinámicas o solapadas y ofrece más parámetros de ajuste."
      ],
      "metadata": {
        "id": "wqZWjFhj6mGV"
      }
    },
    {
      "cell_type": "markdown",
      "source": [
        "Recuerda que los principios de arquitectura de software eficiente parte de ser conciente cuando se necesita mayor complejidad algo y cuando no se requiere, Flexibilidad innecesaria, es un signo de sobre ingenieria (sobre complejizar las cosas)"
      ],
      "metadata": {
        "id": "Qty9M_ma-hFT"
      }
    },
    {
      "cell_type": "markdown",
      "source": [
        "# ¿Que es mas eficiente en polars?\n",
        "\n",
        "¿hallar el máximo (`.max()`) y minimo (`.min()`) o hallar el primero (`.first()`) y el ultimo (`.last()`) ? Considerando que los datos ya están ordenados de menor a mayor\n"
      ],
      "metadata": {
        "id": "BbTzjFhEclGX"
      }
    },
    {
      "cell_type": "markdown",
      "source": [
        "En general, para una lista ordenada, acceder al primer y último elemento tiene una complejidad de tiempo O(1) porque sabes exactamente dónde están. Sin embargo, las operaciones max y min en una lista sin ordenar son O(n) ya que tienes que comprobar cada elemento. Pero si los datos ya están ordenados, usar primero y último sería más eficiente porque evitas escanear toda la columna."
      ],
      "metadata": {
        "id": "dkemqTufcfqS"
      }
    },
    {
      "cell_type": "markdown",
      "source": [
        ".first() y .last():\n",
        "\n",
        "Complejidad: O(1) (tiempo constante).\n",
        "\n",
        "Razón: Si la columna está ordenada, .first() y .last() simplemente acceden al primer y último elemento de la columna (o grupo), sin necesidad de recorrer todos los valores.\n",
        "\n",
        "Ejemplo:"
      ],
      "metadata": {
        "id": "BpT8IPbNd0c4"
      }
    },
    {
      "cell_type": "code",
      "source": [
        "# Si la columna está ordenada:\n",
        "df_sorted = df.sort(\"columna\")\n",
        "max_value = df_sorted[\"columna\"].last()  # O(1)\n",
        "min_value = df_sorted[\"columna\"].first()  # O(1)"
      ],
      "metadata": {
        "id": "6qpBshuRch9V"
      },
      "execution_count": null,
      "outputs": []
    },
    {
      "cell_type": "markdown",
      "source": [
        ".max() y .min():\n",
        "\n",
        "Complejidad: O(n) (lineal).\n",
        "\n",
        "Razón: Estos métodos recorren toda la columna (o grupo) para encontrar el máximo y mínimo, incluso si los datos ya están ordenados.\n",
        "\n",
        "Ejemplo:"
      ],
      "metadata": {
        "id": "L_-JUWiQd6fI"
      }
    },
    {
      "cell_type": "code",
      "source": [
        "max_value = df[\"columna\"].max()  # O(n)\n",
        "min_value = df[\"columna\"].min()  # O(n)"
      ],
      "metadata": {
        "id": "SL9i9-rad83T"
      },
      "execution_count": null,
      "outputs": []
    },
    {
      "cell_type": "markdown",
      "source": [
        "**¿Por qué la diferencia?**\n",
        "\n",
        ".first() y .last() son operaciones de acceso directo, mientras que .max() y .min() son operaciones de reducción que requieren escanear todos los elementos.\n",
        "\n",
        "Si la columna está explícitamente ordenada (usando .sort()), Polars puede aprovechar este orden para optimizar .first() y .last()."
      ],
      "metadata": {
        "id": "oawnyQ9bd_q3"
      }
    },
    {
      "cell_type": "code",
      "source": [],
      "metadata": {
        "id": "pwgIqHxpW9s1"
      },
      "execution_count": null,
      "outputs": []
    },
    {
      "cell_type": "markdown",
      "source": [
        "numero nom,mbre, fecha, hora de ingreso, atendido por, proxima sesion cita."
      ],
      "metadata": {
        "id": "CSbPEOcG2cNN"
      }
    },
    {
      "cell_type": "code",
      "source": [],
      "metadata": {
        "id": "c_gvNBUG2ctY"
      },
      "execution_count": null,
      "outputs": []
    }
  ]
}